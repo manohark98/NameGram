{
 "cells": [
  {
   "cell_type": "code",
   "execution_count": 36,
   "metadata": {},
   "outputs": [],
   "source": [
    "import torch\n",
    "\n",
    "# ============================================================\n",
    "# Dataset Building for Character-Level Language Model\n",
    "# ============================================================\n",
    "with open('names.txt', 'r') as f:\n",
    "    words = f.read().splitlines()"
   ]
  },
  {
   "cell_type": "code",
   "execution_count": 37,
   "metadata": {},
   "outputs": [
    {
     "name": "stdout",
     "output_type": "stream",
     "text": [
      "Vocabulary (itos): {1: 'a', 2: 'b', 3: 'c', 4: 'd', 5: 'e', 6: 'f', 7: 'g', 8: 'h', 9: 'i', 10: 'j', 11: 'k', 12: 'l', 13: 'm', 14: 'n', 15: 'o', 16: 'p', 17: 'q', 18: 'r', 19: 's', 20: 't', 21: 'u', 22: 'v', 23: 'w', 24: 'x', 25: 'y', 26: 'z', 0: '.'}\n",
      "X shape: torch.Size([182778, 8]) Y shape: torch.Size([182778])\n",
      "X shape: torch.Size([22633, 8]) Y shape: torch.Size([22633])\n",
      "X shape: torch.Size([22735, 8]) Y shape: torch.Size([22735])\n",
      "Vocab size: 27\n"
     ]
    }
   ],
   "source": [
    "import torch\n",
    "import numpy as np\n",
    "\n",
    "# -------------------------------\n",
    "# 1. Data Preparation\n",
    "# -------------------------------\n",
    "\n",
    "# Sample word list (if not already defined)\n",
    "\n",
    "\n",
    "# Build the vocabulary of characters and mappings to/from integers\n",
    "chars = sorted(list(set(''.join(words))))\n",
    "# Map every character to a unique integer (reserve 0 for the period)\n",
    "stoi = {s: i+1 for i, s in enumerate(chars)}\n",
    "stoi['.'] = 0\n",
    "itos = {i: s for s, i in stoi.items()}\n",
    "vocab_size = len(itos)\n",
    "print(\"Vocabulary (itos):\", itos)\n",
    "\n",
    "# Fix random seed\n",
    "seed = 42\n",
    "torch.manual_seed(seed)\n",
    "np.random.seed(seed)\n",
    "\n",
    "# Context length: how many characters we take to predict the next one\n",
    "block_size = 8\n",
    "\n",
    "def build_dataset(words):  \n",
    "    X, Y = [], []\n",
    "    for w in words:\n",
    "        # Start with a context of all zeros (will be updated as we parse the word)\n",
    "        context = [0] * block_size\n",
    "        for ch in w + '.':  # Append period as an end-of-word marker\n",
    "            ix = stoi[ch]\n",
    "            X.append(context)\n",
    "            Y.append(ix)\n",
    "            # Slide the context window: drop the first element, append the current index\n",
    "            context = context[1:] + [ix]\n",
    "    X = torch.tensor(X)\n",
    "    Y = torch.tensor(Y)\n",
    "    print(\"X shape:\", X.shape, \"Y shape:\", Y.shape)\n",
    "    return X, Y\n",
    "\n",
    "# Split the dataset (80% train, 10% dev, 10% test)\n",
    "n1 = int(0.8 * len(words))\n",
    "n2 = int(0.9 * len(words))\n",
    "Xtr, Ytr = build_dataset(words[:n1])     # 80%\n",
    "Xdev, Ydev = build_dataset(words[n1:n2])   # 10%\n",
    "Xte, Yte = build_dataset(words[n2:])       # 10%\n",
    "\n",
    "print(\"Vocab size:\", vocab_size)\n",
    "\n",
    "# -------------------------------\n",
    "# 2. Custom Neural Network Layers\n",
    "# -------------------------------\n",
    "\n",
    "class LinearLayer:\n",
    "    def __init__(self, f_in, f_out, bias=True):\n",
    "        self.f_in = f_in\n",
    "        self.f_out = f_out\n",
    "        self.bias = bias\n",
    "        self.w = torch.randn(f_in, f_out, requires_grad=True)\n",
    "        if bias:\n",
    "            self.b = torch.zeros(f_out, requires_grad=True)\n",
    "        else:\n",
    "            self.b = None\n",
    "\n",
    "    def __call__(self, x):\n",
    "        if self.bias:\n",
    "            return x @ self.w + self.b\n",
    "        else:\n",
    "            return x @ self.w\n",
    "\n",
    "    def parameters(self):\n",
    "        return [self.w] if self.b is None else [self.w, self.b]\n",
    "\n",
    "class EmbeddingLayer:\n",
    "    def __init__(self, n_emb, d_emb):\n",
    "        # n_emb is the vocabulary size, d_emb is the embedding dimension.\n",
    "        self.emb = torch.randn(n_emb, d_emb, requires_grad=True)\n",
    "\n",
    "    def __call__(self, x):\n",
    "        x = x.long()\n",
    "        return self.emb[x]\n",
    "\n",
    "    def parameters(self):\n",
    "        return [self.emb]\n",
    "\n",
    "# -------------------------------\n",
    "# 3. Custom RNN Implementation\n",
    "# -------------------------------\n",
    "\n",
    "class RNNCell:\n",
    "    def __init__(self, input_dim, hidden_dim):\n",
    "        self.input_dim = input_dim\n",
    "        self.hidden_dim = hidden_dim\n",
    "        # Weight matrices for input-to-hidden and hidden-to-hidden transitions\n",
    "        self.W_ih = torch.randn(input_dim, hidden_dim, requires_grad=True)\n",
    "        self.W_hh = torch.randn(hidden_dim, hidden_dim, requires_grad=True)\n",
    "        # Biases for the input and hidden transformations\n",
    "        self.b_ih = torch.zeros(hidden_dim, requires_grad=True)\n",
    "        self.b_hh = torch.zeros(hidden_dim, requires_grad=True)\n",
    "\n",
    "    def __call__(self, x, h):\n",
    "        \"\"\"\n",
    "        x: Tensor of shape (batch_size, input_dim) for the current time step.\n",
    "        h: Tensor of shape (batch_size, hidden_dim) representing the previous hidden state.\n",
    "        Returns:\n",
    "            h_new: The updated hidden state (batch_size, hidden_dim)\n",
    "        \"\"\"\n",
    "        h_new = torch.tanh(x @ self.W_ih + h @ self.W_hh + self.b_ih + self.b_hh)\n",
    "        return h_new\n",
    "\n",
    "    def parameters(self):\n",
    "        return [self.W_ih, self.W_hh, self.b_ih, self.b_hh]\n",
    "\n",
    "class RNN:\n",
    "    def __init__(self, input_dim, hidden_dim):\n",
    "        # Use a single RNN cell at every time step.\n",
    "        self.cell = RNNCell(input_dim, hidden_dim)\n",
    "\n",
    "    def __call__(self, x, h0=None):\n",
    "        \"\"\"\n",
    "        x: Input tensor with shape (batch_size, seq_len, input_dim)\n",
    "        h0: Optional initial hidden state (default is zeros), shape: (batch_size, hidden_dim)\n",
    "        Returns:\n",
    "            outputs: A tensor containing the hidden state for every time step (batch_size, seq_len, hidden_dim)\n",
    "            h: The hidden state from the last time step (batch_size, hidden_dim)\n",
    "        \"\"\"\n",
    "        batch_size, seq_len, _ = x.shape\n",
    "        \n",
    "        # Initialize h0 as zeros if not provided\n",
    "        if h0 is None:\n",
    "            h = torch.zeros(batch_size, self.cell.hidden_dim)\n",
    "        else:\n",
    "            h = h0\n",
    "\n",
    "        outputs = []\n",
    "        for t in range(seq_len):\n",
    "            # Process one time step at a time\n",
    "            x_t = x[:, t, :]  # Shape: (batch_size, input_dim)\n",
    "            h = self.cell(x_t, h)\n",
    "            outputs.append(h)\n",
    "        # Stack the hidden states to form the output tensor\n",
    "        outputs = torch.stack(outputs, dim=1)\n",
    "        return outputs, h\n",
    "\n",
    "    def parameters(self):\n",
    "        return self.cell.parameters()\n",
    "\n",
    "# -------------------------------\n",
    "# 4. Composing the RNN Model for Character-Level Prediction\n",
    "# -------------------------------\n",
    "\n",
    "class CharRNN:\n",
    "    def __init__(self, vocab_size, d_emb, hidden_dim):\n",
    "        # Create an embedding layer (vocab_size x d_emb)\n",
    "        self.embed = EmbeddingLayer(vocab_size, d_emb)\n",
    "        # RNN layer that processes the embeddings sequentially\n",
    "        self.rnn = RNN(d_emb, hidden_dim)\n",
    "\n",
    "        self.rnn2 = RNN(hidden_dim, hidden_dim)\n",
    "        # Linear layer mapping from hidden_dim to vocab_size logits\n",
    "        self.lin = LinearLayer(hidden_dim, vocab_size)\n",
    "\n",
    "    def __call__(self, x):\n",
    "        \"\"\"\n",
    "        x: Tensor of shape (batch_size, block_size) containing sequences of integer tokens.\n",
    "        Returns:\n",
    "            logits: Tensor of shape (batch_size, vocab_size) representing the prediction for the next character.\n",
    "        \"\"\"\n",
    "        # Pass the input through the embedding layer.\n",
    "        x_emb = self.embed(x)  # Shape: (batch_size, block_size, d_emb)\n",
    "        \n",
    "        # Process the embedded sequence with the RNN.\n",
    "        outputs, h = self.rnn(x_emb)\n",
    "        \n",
    "        # For prediction, we use the hidden state from the final time step.\n",
    "        final_hidden = outputs[:, -1, :]  # Shape: (batch_size, hidden_dim)\n",
    "        logits = self.lin(final_hidden)   # Shape: (batch_size, vocab_size)\n",
    "        return logits\n",
    "\n",
    "    def parameters(self):\n",
    "        # Collect parameters from all layers.\n",
    "        return self.embed.parameters() + self.rnn.parameters() + self.lin.parameters()\n",
    "\n",
    "# -------------------------------\n",
    "# 5. Testing the Model's Forward Pass\n",
    "# -------------------------------\n",
    "\n",
    "# Set hyperparameters for the model\n",
    "d_emb = 32     # Dimension for embeddings\n",
    "hidden_dim = 64  # Hidden state dimension\n",
    "\n",
    "# Instantiate the character RNN model.\n",
    "model = CharRNN(vocab_size, d_emb, hidden_dim)\n",
    "\n",
    "\n"
   ]
  },
  {
   "cell_type": "code",
   "execution_count": null,
   "metadata": {},
   "outputs": [],
   "source": []
  },
  {
   "cell_type": "code",
   "execution_count": 38,
   "metadata": {},
   "outputs": [
    {
     "name": "stdout",
     "output_type": "stream",
     "text": [
      "8891\n"
     ]
    }
   ],
   "source": [
    "parameters = model.parameters()\n",
    "print(sum(p.nelement() for p in parameters)) # number of parameters in total\n",
    "for p in parameters:\n",
    "  p.requires_grad = True"
   ]
  },
  {
   "cell_type": "code",
   "execution_count": 39,
   "metadata": {},
   "outputs": [
    {
     "name": "stdout",
     "output_type": "stream",
     "text": [
      "      0/ 200000: 17.1764\n"
     ]
    },
    {
     "name": "stdout",
     "output_type": "stream",
     "text": [
      "  10000/ 200000: 2.0711\n",
      "  20000/ 200000: 2.4426\n",
      "  30000/ 200000: 2.4193\n",
      "  40000/ 200000: 1.9763\n",
      "  50000/ 200000: 2.0416\n",
      "  60000/ 200000: 2.5680\n",
      "  70000/ 200000: 2.0609\n",
      "  80000/ 200000: 2.2333\n",
      "  90000/ 200000: 2.4029\n",
      " 100000/ 200000: 2.5740\n",
      " 110000/ 200000: 1.8119\n",
      " 120000/ 200000: 2.3949\n",
      " 130000/ 200000: 2.2732\n",
      " 140000/ 200000: 2.4088\n",
      " 150000/ 200000: 2.4634\n",
      " 160000/ 200000: 1.9793\n",
      " 170000/ 200000: 1.9148\n",
      " 180000/ 200000: 2.1512\n",
      " 190000/ 200000: 2.7503\n"
     ]
    }
   ],
   "source": [
    "import torch.nn.functional as F\n",
    "\n",
    "# same optimization as last time\n",
    "max_steps = 200000\n",
    "batch_size = 32\n",
    "lossi = []\n",
    "\n",
    "for i in range(max_steps):\n",
    "  \n",
    "  # minibatch construct\n",
    "  ix = torch.randint(0, Xtr.shape[0], (batch_size,))\n",
    "  Xb, Yb = Xtr[ix], Ytr[ix] # batch X,Y\n",
    "  \n",
    "  # forward pass\n",
    "  logits = model(Xb)\n",
    "  loss = F.cross_entropy(logits, Yb) # loss function\n",
    "  \n",
    "  # backward pass\n",
    "  for p in parameters:\n",
    "    p.grad = None\n",
    "  loss.backward()\n",
    "  \n",
    "  # update: simple SGD\n",
    "  lr = 0.1 if i < 150000 else 0.01 # step learning rate decay\n",
    "  for p in parameters:\n",
    "    p.data += -lr * p.grad\n",
    "\n",
    "  # track stats\n",
    "  if i % 10000 == 0: # print every once in a while\n",
    "    print(f'{i:7d}/{max_steps:7d}: {loss.item():.4f}')\n",
    "  lossi.append(loss.log10().item())"
   ]
  },
  {
   "cell_type": "code",
   "execution_count": 40,
   "metadata": {},
   "outputs": [
    {
     "data": {
      "text/plain": [
       "[<matplotlib.lines.Line2D at 0x1f7ffe6ac90>]"
      ]
     },
     "execution_count": 40,
     "metadata": {},
     "output_type": "execute_result"
    },
    {
     "data": {
      "image/png": "[encoded data removed]",
      "text/plain": [
       "<Figure size 640x480 with 1 Axes>"
      ]
     },
     "metadata": {},
     "output_type": "display_data"
    }
   ],
   "source": [
    "import matplotlib.pyplot as plt # for making figures\n",
    "%matplotlib inline\n",
    "plt.plot(torch.tensor(lossi).view(-1, 1000).mean(1))"
   ]
  },
  {
   "cell_type": "code",
   "execution_count": 41,
   "metadata": {},
   "outputs": [],
   "source": [
    "# put layers into eval mode (needed for batchnorm especially)\n",
    "for layer in model.parameters():\n",
    "  layer.requires_grad = False"
   ]
  },
  {
   "cell_type": "code",
   "execution_count": 42,
   "metadata": {},
   "outputs": [
    {
     "data": {
      "text/plain": [
       "(torch.Size([182778, 8]), torch.Size([22735, 8]))"
      ]
     },
     "execution_count": 42,
     "metadata": {},
     "output_type": "execute_result"
    }
   ],
   "source": [
    "Xtr.shape, Xte.shape"
   ]
  },
  {
   "cell_type": "code",
   "execution_count": 43,
   "metadata": {},
   "outputs": [
    {
     "name": "stdout",
     "output_type": "stream",
     "text": [
      "train 2.106175661087036\n",
      "val 2.385399580001831\n"
     ]
    }
   ],
   "source": [
    "# evaluate the loss\n",
    "@torch.no_grad() # this decorator disables gradient tracking inside pytorch\n",
    "def split_loss(split):\n",
    "  x,y = {\n",
    "    'train': (Xtr, Ytr),\n",
    "    'val': (Xdev, Ydev),\n",
    "    'test': (Xte, Yte),\n",
    "  }[split]\n",
    "  logits = model(x)\n",
    "  loss = F.cross_entropy(logits, y)\n",
    "  print(split, loss.item())\n",
    "\n",
    "split_loss('train')\n",
    "split_loss('val')"
   ]
  },
  {
   "cell_type": "code",
   "execution_count": 56,
   "metadata": {},
   "outputs": [
    {
     "name": "stdout",
     "output_type": "stream",
     "text": [
      "ralex.\n",
      "anndeline.\n",
      "sayoe.\n",
      "killel.\n",
      "hernyer.\n",
      "conavian.\n",
      "assri.\n",
      "toakoretzionkien.\n",
      "qolasia.\n",
      "gunsly.\n",
      "kaaly.\n",
      "beekai.\n",
      "yakrieman.\n",
      "jenslynn.\n",
      "adenobran.\n",
      "zorickdesh.\n",
      "amarole.\n",
      "kyra.\n",
      "geavii.\n",
      "calex.\n"
     ]
    }
   ],
   "source": [
    "# sample from the model\n",
    "for _ in range(20):\n",
    "    \n",
    "    out = []\n",
    "    context = [0] * block_size # initialize with all ...\n",
    "    while True:\n",
    "      # forward pass the neural net\n",
    "      logits = model(torch.tensor([context]))\n",
    "      probs = F.softmax(logits, dim=1)\n",
    "      # sample from the distribution\n",
    "      ix = torch.multinomial(probs, num_samples=1).item()\n",
    "      # shift the context window and track the samples\n",
    "      context = context[1:] + [ix]\n",
    "      out.append(ix)\n",
    "      # if we sample the special '.' token, break\n",
    "      if ix == 0:\n",
    "        break\n",
    "    \n",
    "    print(''.join(itos[i] for i in out)) # decode and print the generated word"
   ]
  }
 ],
 "metadata": {
  "kernelspec": {
   "display_name": "Python 3",
   "language": "python",
   "name": "python3"
  },
  "language_info": {
   "codemirror_mode": {
    "name": "ipython",
    "version": 3
   },
   "file_extension": ".py",
   "mimetype": "text/x-python",
   "name": "python",
   "nbconvert_exporter": "python",
   "pygments_lexer": "ipython3",
   "version": "3.12.6"
  }
 },
 "nbformat": 4,
 "nbformat_minor": 2
}
